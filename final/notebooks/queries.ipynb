{
  "cells": [
    {
      "cell_type": "markdown",
      "metadata": {
        "id": "u6vfG-N9SED7"
      },
      "source": [
        "\n",
        "####Pergunta/Análise 1\n",
        "\n",
        "* Selecione o nome das drogas e doenças das N interações com maior pontuação.\n",
        "\n",
        "   * Usando o SQL com 10 interações:\n"
      ]
    },
    {
      "cell_type": "code",
      "execution_count": null,
      "metadata": {
        "id": "cgPPeW3ZSDdd"
      },
      "outputs": [],
      "source": [
        "SELECT Dr.Name, Di.Name, I.Type, I.Score FROM Interaction as I, Drug as Dr, Disease  as Di WHERE Dr.Id = I.DrugId AND Di.Id = I.DiseaseId ORDER BY I.Score DESC LIMIT 10;"
      ]
    },
    {
      "cell_type": "markdown",
      "metadata": {
        "id": "bqjCEH6pSSMf"
      },
      "source": [
        "#### Pergunta/Análise 2\n",
        " * Quais drogas tem relação com a doença (Acute lymphocytic leukemia) C0023449 ?\n",
        "   \n",
        "   * Vamos selecionar os 10 primeiros registros com a seguinte query:"
      ]
    },
    {
      "cell_type": "code",
      "execution_count": null,
      "metadata": {
        "id": "8A5kLUNfR7kd"
      },
      "outputs": [],
      "source": [
        "SELECT Dr.Id, Dr.Name, I.Type, I.Score FROM INTERACTION as I, DRUG as Dr, Disease as Di WHERE Di.id ='C0023449' AND I.DiseaseId = Di.id ORDER BY I.Score DESC LIMIT 10;"
      ]
    },
    {
      "cell_type": "markdown",
      "metadata": {
        "id": "doUFQBodShGM"
      },
      "source": [
        "#### Pergunta/Análise 3\n",
        " * Quais Classes de Doenças estão mais relacionadas com a Droga Y?\n",
        "   \n",
        "   * Esta pergunta necessita de uma análise de grafo aprofundada. Podemos começar a partir da query no Neo4j."
      ]
    },
    {
      "cell_type": "markdown",
      "metadata": {},
      "source": [
        "```\n",
        "MATCH (dr:Drug)-[activates]->(di:Disease)-[belongs]->(c:Class) WHERE dr.name='HYDROMORPHONE' RETURN dr, activates, di, belongs, c\n",
        "```"
      ]
    }
  ],
  "metadata": {
    "colab": {
      "collapsed_sections": [],
      "name": "queries.ipynb",
      "provenance": []
    },
    "kernelspec": {
      "display_name": "Python 3",
      "name": "python3"
    },
    "language_info": {
      "name": "python"
    }
  },
  "nbformat": 4,
  "nbformat_minor": 0
}
